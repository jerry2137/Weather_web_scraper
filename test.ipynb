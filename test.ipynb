{
 "cells": [
  {
   "cell_type": "code",
   "execution_count": 6,
   "metadata": {},
   "outputs": [],
   "source": [
    "import pypdfium2 as pdfium\n",
    "import os\n",
    "\n",
    "folderpath = r'C:\\Users\\user\\OneDrive - City University of Hong Kong - Student\\Desktop\\molly\\Submission Number 8 - Astronmical solar timer/'\n",
    "for filename in os.listdir(folderpath):\n",
    "    if not (filename.endswith('.pdf')|filename.endswith('.PDF')):\n",
    "        continue\n",
    "\n",
    "    # Load a document\n",
    "    filepath = folderpath + filename\n",
    "    pdf = pdfium.PdfDocument(filepath)\n",
    "\n",
    "    # render multiple pages concurrently (in this case: all)\n",
    "    page_indices = [i for i in range(len(pdf))]\n",
    "    renderer = pdf.render_to(\n",
    "        pdfium.BitmapConv.pil_image,\n",
    "        page_indices = page_indices,\n",
    "    )\n",
    "    for image, index in zip(renderer, page_indices):\n",
    "        image.save(folderpath + filename[:-4] + \"_%02d.jpg\" % index)"
   ]
  }
 ],
 "metadata": {
  "kernelspec": {
   "display_name": "Python 3",
   "language": "python",
   "name": "python3"
  },
  "language_info": {
   "codemirror_mode": {
    "name": "ipython",
    "version": 3
   },
   "file_extension": ".py",
   "mimetype": "text/x-python",
   "name": "python",
   "nbconvert_exporter": "python",
   "pygments_lexer": "ipython3",
   "version": "3.9.5 (tags/v3.9.5:0a7dcbd, May  3 2021, 17:27:52) [MSC v.1928 64 bit (AMD64)]"
  },
  "orig_nbformat": 4,
  "vscode": {
   "interpreter": {
    "hash": "82ed002fa2d4956f5c6aec99bcefe0f73a9f79882f3c9e2319b14958a5896ac5"
   }
  }
 },
 "nbformat": 4,
 "nbformat_minor": 2
}
